{
 "metadata": {
  "name": "Digital Blasphemy"
 },
 "nbformat": 3,
 "nbformat_minor": 0,
 "worksheets": [
  {
   "cells": [
    {
     "cell_type": "markdown",
     "metadata": {},
     "source": [
      "Digital Blasphemy Wallpaper Sync\n",
      "================================\n",
      "\n",
      "[Digital Blasphemy](http://digitalblasphemy.com) is a great site where the digital artist Ryan Bliss posts a wide variety of wallpapers for download.\n",
      "\n",
      "While a selection of the pieces are available for free, subscribing to the site provides access to all of the images at a variety of resolutions. Given how much I like Ryan's art, I signed up for the lifetime membership a while ago to help ensure I'll have more artwork to download in the future :)\n",
      "\n",
      "I've long used a random selection of the Digital Blasphemy artwork as the desktop background on my personal laptop, but updating the available images has been a matter of downloading the complete zip archives at the relevant resolutions, unzipping them to the appropriate location, and then going through to delete the few that I know I don't like.\n",
      "\n",
      "It had been a while since I last did that and I decided that *this* time, I'd solve the problem in a more sensible way, by figuring out a way to automate the process of checking for images I didn't have (in the resolutions I care about) and downloading them to the right location.\n",
      "\n",
      "Packaging that up properly as a command line application would be a lot of work that wouldn't really help *me*, but by using an IPython notebook, I was able to convert my experimental code to see how I could retrieve the relevant data from the site directly into something that actually solved my original problem :)\n",
      "\n",
      "If the name Digital Blasphemy sounds vaguely familiar, it may be due to *this* image (or on of its earlier incarnations):\n",
      "\n",
      "![Flourescence (2009 version)](http://digitalblasphemy.com/graphics/fb/fluorescence2k93fb.jpg)\n",
      "\n"
     ]
    },
    {
     "cell_type": "code",
     "collapsed": false,
     "input": [
      "import os.path\n",
      "import ConfigParser\n",
      "import requests\n",
      "import re\n",
      "\n",
      "LOCAL_MIRROR = os.path.expanduser(\"~/Pictures/Digital Blasphemy/\")\n",
      "REMOTE_HOME_URL = 'http://digitalblasphemy.com/seeall.shtml'\n",
      "REMOTE_CONTENT_URL = 'http://digitalblasphemy.com/content/jpgs'\n",
      "RESOLUTIONS = [\"1080p\", \"1600x900\"]\n",
      "LOCAL_RES_DIRS = {res:os.path.join(LOCAL_MIRROR, \"db\" + res) for res in RESOLUTIONS}\n",
      "# Slightly hacky to use os.path.join on URLs, but it works well enough in this case\n",
      "REMOTE_RES_URLS = {res:os.path.join(REMOTE_CONTENT_URL, res) for res in RESOLUTIONS}\n",
      "\n",
      "# Basic config file for Digital Blasphemy login credentials\n",
      "CONFIG_FILE = os.path.join(LOCAL_MIRROR, \"access.cfg\")\n",
      "config = ConfigParser.RawConfigParser()\n",
      "config.read(CONFIG_FILE)\n",
      "db_username = config.get(\"login\", \"username\")\n",
      "db_passwd = config.get(\"login\", \"password\")\n",
      "\n",
      "# Page retrieval helper\n",
      "\n",
      "def get_page(db_url):\n",
      "    \"\"\"Retrive a Digital Blasphemy page using the configured credentials\"\"\"\n",
      "    return requests.get(db_url, auth=(db_username, db_passwd)).content"
     ],
     "language": "python",
     "metadata": {},
     "outputs": [],
     "prompt_number": 10
    },
    {
     "cell_type": "code",
     "collapsed": false,
     "input": [
      "# To mangle a quote from a fine show:\n",
      "# \"They say never parse HTML with regular expressions,\n",
      "# but it is, on occasion, an expedient hack\" :)\n",
      "\n",
      "def iter_published_images():\n",
      "    content = get_page(REMOTE_HOME_URL)\n",
      "    for m in re.finditer('href=\"/preview.shtml\\?i=(.*?)\"', content):\n",
      "        yield m.group(1)\n",
      "\n",
      "PUBLISHED = list(iter_published_images())"
     ],
     "language": "python",
     "metadata": {},
     "outputs": [],
     "prompt_number": 13
    },
    {
     "cell_type": "code",
     "collapsed": false,
     "input": [
      "# I use my laptop for conference presentations\n",
      "# If I either don't really like a wallpaper or I'm\n",
      "# not happy displaying it at a professional\n",
      "# conference, I ensure I don't mirror it\n",
      "BLOCKED = (\"chamelea\", \"cupid\", \"emblem\")\n",
      "\n",
      "# I also want to filter any images that are from the pickle jar\n",
      "# (experimental versions that aren't included in the main image index)\n",
      "ACCEPTABLE = set(name for name in PUBLISHED if not name.startswith(BLOCKED))"
     ],
     "language": "python",
     "metadata": {},
     "outputs": [],
     "prompt_number": 14
    },
    {
     "cell_type": "code",
     "collapsed": false,
     "input": [
      "def iter_remote_file_list(res):\n",
      "    content = get_page(REMOTE_RES_URLS[res])\n",
      "    # Complete hack to get the file list from the server index page\n",
      "    for m in re.finditer(r'<a href=\"(.*?)(%s\\.jpg)\">' % res, content):\n",
      "        candidate = m.group(1)\n",
      "        if candidate in ACCEPTABLE:\n",
      "            yield candidate + m.group(2)\n",
      "\n",
      "def get_remote_files(res):\n",
      "    return set(iter_remote_file_list(res))\n",
      "\n",
      "def get_local_files(res):\n",
      "    files = os.listdir(LOCAL_RES_DIRS[res])\n",
      "    return set(os.path.basename(f) for f in files)"
     ],
     "language": "python",
     "metadata": {},
     "outputs": [],
     "prompt_number": 19
    },
    {
     "cell_type": "code",
     "collapsed": false,
     "input": [
      "import time\n",
      "\n",
      "def get_images_to_download(res):\n",
      "    remote = get_remote_files(res)\n",
      "    local = get_local_files(res)\n",
      "    return remote - local\n",
      "\n",
      "def download_image(source_url, dest_file, dryrun=True):\n",
      "    print(\"  Downloading {} -> {}\".format(source_url, dest_file))\n",
      "    if dryrun:\n",
      "        print(\"    Dry run only, skipping download\")\n",
      "        return\n",
      "    data = get_page(source_url)\n",
      "    with open(dest_file, 'wb') as f:\n",
      "        f.write(data)\n",
      "    return len(data)\n",
      "\n",
      "# This assumes the local destination directory already exists\n",
      "def download_missing_images_for_res(res, dryrun=True):\n",
      "    source_url = REMOTE_RES_URLS[res]\n",
      "    dest_dir = LOCAL_RES_DIRS[res]\n",
      "    delay = 0.05 if dryrun else 0.5\n",
      "    images = get_images_to_download(res)\n",
      "    total = len(images)\n",
      "    if not total:\n",
      "        print(\"No {} images to download\".format(res))\n",
      "        return\n",
      "    print(\"{} {} images to be downloaded\".format(total, res))\n",
      "    for i, image in enumerate(images, start=1):\n",
      "        print(\"Downloading {} image {}/{}\".format(res, i, total))\n",
      "        source = os.path.join(source_url, image)\n",
      "        dest = os.path.join(dest_dir, image)\n",
      "        download_image(source, dest, dryrun)\n",
      "        time.sleep(delay) # Be nice to the server\n",
      "\n",
      "def download_missing_images(dryrun=True):\n",
      "    for res in RESOLUTIONS:\n",
      "        download_missing_images_for_res(res, dryrun)"
     ],
     "language": "python",
     "metadata": {},
     "outputs": [],
     "prompt_number": 28
    },
    {
     "cell_type": "code",
     "collapsed": false,
     "input": [
      "# download_missing_images(dryrun=False)"
     ],
     "language": "python",
     "metadata": {},
     "outputs": [
      {
       "output_type": "stream",
       "stream": "stdout",
       "text": [
        "No 1080p images to download\n",
        "No 1600x900 images to download"
       ]
      },
      {
       "output_type": "stream",
       "stream": "stdout",
       "text": [
        "\n"
       ]
      }
     ],
     "prompt_number": 29
    },
    {
     "cell_type": "code",
     "collapsed": false,
     "input": [],
     "language": "python",
     "metadata": {},
     "outputs": [],
     "prompt_number": 20
    },
    {
     "cell_type": "code",
     "collapsed": false,
     "input": [],
     "language": "python",
     "metadata": {},
     "outputs": [],
     "prompt_number": 8
    },
    {
     "cell_type": "code",
     "collapsed": false,
     "input": [],
     "language": "python",
     "metadata": {},
     "outputs": [],
     "prompt_number": 8
    },
    {
     "cell_type": "code",
     "collapsed": false,
     "input": [],
     "language": "python",
     "metadata": {},
     "outputs": []
    }
   ],
   "metadata": {}
  }
 ]
}