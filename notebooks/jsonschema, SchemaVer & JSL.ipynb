{
 "cells": [
  {
   "cell_type": "code",
   "execution_count": 1,
   "metadata": {
    "collapsed": false
   },
   "outputs": [
    {
     "name": "stdout",
     "output_type": "stream",
     "text": [
      "json-compatible data structure\n"
     ]
    }
   ],
   "source": [
    "# JSON is a wonderful format that provides a lot of convenience for\n",
    "# data publishers, redistributors and consumers\n",
    "the_data = {\n",
    "    \"my\": \"amazing\",\n",
    "    \"flexible\": \"but maybe\",\n",
    "    \"not so user-friendly\": \"JSON-compatible data structure\"\n",
    "}\n",
    "def consume(data):\n",
    "    print(data[\"not so user-friendly\"].lower())\n",
    "consume(the_data)"
   ]
  },
  {
   "cell_type": "code",
   "execution_count": 2,
   "metadata": {
    "collapsed": false
   },
   "outputs": [
    {
     "ename": "AttributeError",
     "evalue": "'int' object has no attribute 'lower'",
     "output_type": "error",
     "traceback": [
      "\u001b[0;31m---------------------------------------------------------------------------\u001b[0m",
      "\u001b[0;31mAttributeError\u001b[0m                            Traceback (most recent call last)",
      "\u001b[0;32m<ipython-input-2-218098746eab>\u001b[0m in \u001b[0;36m<module>\u001b[0;34m()\u001b[0m\n\u001b[1;32m      5\u001b[0m     \u001b[0;34m\"not so user-friendly\"\u001b[0m\u001b[0;34m:\u001b[0m \u001b[0;36m1\u001b[0m\u001b[0;34m\u001b[0m\u001b[0m\n\u001b[1;32m      6\u001b[0m }\n\u001b[0;32m----> 7\u001b[0;31m \u001b[0mconsume\u001b[0m\u001b[0;34m(\u001b[0m\u001b[0mthe_data_in_a_new_format\u001b[0m\u001b[0;34m)\u001b[0m\u001b[0;34m\u001b[0m\u001b[0m\n\u001b[0m",
      "\u001b[0;32m<ipython-input-1-db15dc52ac5e>\u001b[0m in \u001b[0;36mconsume\u001b[0;34m(data)\u001b[0m\n\u001b[1;32m      7\u001b[0m }\n\u001b[1;32m      8\u001b[0m \u001b[0;32mdef\u001b[0m \u001b[0mconsume\u001b[0m\u001b[0;34m(\u001b[0m\u001b[0mdata\u001b[0m\u001b[0;34m)\u001b[0m\u001b[0;34m:\u001b[0m\u001b[0;34m\u001b[0m\u001b[0m\n\u001b[0;32m----> 9\u001b[0;31m     \u001b[0mprint\u001b[0m\u001b[0;34m(\u001b[0m\u001b[0mdata\u001b[0m\u001b[0;34m[\u001b[0m\u001b[0;34m\"not so user-friendly\"\u001b[0m\u001b[0;34m]\u001b[0m\u001b[0;34m.\u001b[0m\u001b[0mlower\u001b[0m\u001b[0;34m(\u001b[0m\u001b[0;34m)\u001b[0m\u001b[0;34m)\u001b[0m\u001b[0;34m\u001b[0m\u001b[0m\n\u001b[0m\u001b[1;32m     10\u001b[0m \u001b[0mconsume\u001b[0m\u001b[0;34m(\u001b[0m\u001b[0mthe_data\u001b[0m\u001b[0;34m)\u001b[0m\u001b[0;34m\u001b[0m\u001b[0m\n",
      "\u001b[0;31mAttributeError\u001b[0m: 'int' object has no attribute 'lower'"
     ]
    }
   ],
   "source": [
    "# But data models change, and communicating that to data consumers can be a problem\n",
    "the_data_in_a_new_format = {\n",
    "    \"my\": \"amazing\",\n",
    "    \"flexible\": \"but maybe\",\n",
    "    \"not so user-friendly\": 1\n",
    "}\n",
    "consume(the_data_in_a_new_format)"
   ]
  },
  {
   "cell_type": "code",
   "execution_count": null,
   "metadata": {
    "collapsed": false
   },
   "outputs": [],
   "source": [
    "# jsonschema to the rescue?\n",
    "my_original_schema = {\n",
    "  \"$schema\": \"http://json-schema.org/draft-04/schema#\",\n",
    "  \"type\": \"object\",\n",
    "  \"properties\": {\n",
    "    \"my\": {\n",
    "      \"type\": \"string\"\n",
    "    },\n",
    "    \"flexible\": {\n",
    "      \"type\": \"string\"\n",
    "    },\n",
    "    \"not so user-friendly\": {\n",
    "      \"type\": \"string\"\n",
    "    }\n",
    "  },\n",
    "  \"additionalProperties\": false\n",
    "}\n",
    "\n",
    "# Or maybe not.\n",
    "# Hard to write, hard to diff, hard to review, hard to maintain in general"
   ]
  },
  {
   "cell_type": "code",
   "execution_count": 3,
   "metadata": {
    "collapsed": false
   },
   "outputs": [
    {
     "name": "stdout",
     "output_type": "stream",
     "text": [
      "{\n",
      "  \"$schema\": \"http://json-schema.org/draft-04/schema#\",\n",
      "  \"type\": \"object\",\n",
      "  \"properties\": {\n",
      "    \"my\": {\n",
      "      \"type\": \"string\"\n",
      "    },\n",
      "    \"flexible\": {\n",
      "      \"type\": \"string\"\n",
      "    },\n",
      "    \"not so user-friendly\": {\n",
      "      \"type\": \"string\"\n",
      "    }\n",
      "  },\n",
      "  \"additionalProperties\": false\n",
      "}\n"
     ]
    }
   ],
   "source": [
    "# Enter JSL\n",
    "import json, jsl\n",
    "class MyDocument(jsl.document.Document):\n",
    "    my = jsl.fields.StringField()\n",
    "    flexible = jsl.fields.StringField()\n",
    "    not_so_user_friendly = jsl.fields.StringField(name=\"not so user-friendly\")\n",
    "\n",
    "\n",
    "print(json.dumps(MyDocument.get_schema(ordered=True), indent=2))"
   ]
  },
  {
   "cell_type": "code",
   "execution_count": 9,
   "metadata": {
    "collapsed": false
   },
   "outputs": [
    {
     "name": "stdout",
     "output_type": "stream",
     "text": [
      "{\n",
      "  \"$schema\": \"http://json-schema.org/draft-04/schema#\",\n",
      "  \"type\": \"object\",\n",
      "  \"title\": \"MyDocument v1-0-0\",\n",
      "  \"properties\": {\n",
      "    \"my\": {\n",
      "      \"type\": \"string\"\n",
      "    },\n",
      "    \"flexible\": {\n",
      "      \"type\": \"string\"\n",
      "    },\n",
      "    \"not so user-friendly\": {\n",
      "      \"type\": \"string\"\n",
      "    }\n",
      "  },\n",
      "  \"additionalProperties\": false\n",
      "}\n"
     ]
    }
   ],
   "source": [
    "# With SchemaVer and JSL roles for easy to maintain schema updates\n",
    "ROLE_v1_0_0 = \"v1-0-0\"\n",
    "ROLE_v2_0_0 = \"v2-0-0\"\n",
    "\n",
    "ROLE_TITLE = jsl.roles.Var({\n",
    "    ROLE_v1_0_0: \"MyDocument v1-0-0\",\n",
    "    ROLE_v2_0_0: \"MyDocument v2-0-0\",\n",
    "})\n",
    "\n",
    "\n",
    "class MyMultiformatDocument(jsl.document.Document):\n",
    "    class Options(object):\n",
    "        title = ROLE_TITLE\n",
    "\n",
    "    my = jsl.fields.StringField()\n",
    "    flexible = jsl.fields.StringField()\n",
    "    with jsl.roles.Scope(ROLE_v1_0_0) as v1:\n",
    "        v1.not_so_user_friendly = jsl.fields.StringField(name=\"not so user-friendly\")\n",
    "    with jsl.roles.Scope(ROLE_v2_0_0) as v2:\n",
    "        v2.not_so_user_friendly = jsl.fields.IntField(name=\"not so user-friendly\")\n",
    "\n",
    "print(json.dumps(MyMultiformatDocument.get_schema(ordered=True, role=ROLE_v1_0_0), indent=2))"
   ]
  },
  {
   "cell_type": "code",
   "execution_count": 8,
   "metadata": {
    "collapsed": false
   },
   "outputs": [
    {
     "name": "stdout",
     "output_type": "stream",
     "text": [
      "{\n",
      "  \"$schema\": \"http://json-schema.org/draft-04/schema#\",\n",
      "  \"type\": \"object\",\n",
      "  \"title\": \"MyDocument v2-0-0\",\n",
      "  \"properties\": {\n",
      "    \"my\": {\n",
      "      \"type\": \"string\"\n",
      "    },\n",
      "    \"flexible\": {\n",
      "      \"type\": \"string\"\n",
      "    },\n",
      "    \"not_so_user_friendly\": {\n",
      "      \"type\": \"integer\"\n",
      "    }\n",
      "  },\n",
      "  \"additionalProperties\": false\n",
      "}\n"
     ]
    }
   ],
   "source": [
    "print(json.dumps(MyMultiformatDocument.get_schema(ordered=True, role=ROLE_v2_0_0), indent=2))"
   ]
  },
  {
   "cell_type": "code",
   "execution_count": null,
   "metadata": {
    "collapsed": true
   },
   "outputs": [],
   "source": []
  },
  {
   "cell_type": "code",
   "execution_count": null,
   "metadata": {
    "collapsed": true
   },
   "outputs": [],
   "source": []
  }
 ],
 "metadata": {
  "kernelspec": {
   "display_name": "Python 3",
   "language": "python",
   "name": "python3"
  },
  "language_info": {
   "codemirror_mode": {
    "name": "ipython",
    "version": 3
   },
   "file_extension": ".py",
   "mimetype": "text/x-python",
   "name": "python",
   "nbconvert_exporter": "python",
   "pygments_lexer": "ipython3",
   "version": "3.5.1"
  }
 },
 "nbformat": 4,
 "nbformat_minor": 1
}
